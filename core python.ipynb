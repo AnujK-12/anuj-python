{
 "cells": [
  {
   "cell_type": "code",
   "execution_count": 5,
   "metadata": {},
   "outputs": [
    {
     "ename": "ValueError",
     "evalue": "invalid literal for int() with base 10: ''",
     "output_type": "error",
     "traceback": [
      "\u001b[1;31m---------------------------------------------------------------------------\u001b[0m",
      "\u001b[1;31mValueError\u001b[0m                                Traceback (most recent call last)",
      "Cell \u001b[1;32mIn[5], line 10\u001b[0m\n\u001b[0;32m      8\u001b[0m     ans1\u001b[38;5;241m=\u001b[39mb\u001b[38;5;241m-\u001b[39ma\n\u001b[0;32m      9\u001b[0m     \u001b[38;5;28mprint\u001b[39m(\u001b[38;5;124m\"\u001b[39m\u001b[38;5;124manswer\u001b[39m\u001b[38;5;124m\"\u001b[39m,ans1)\n\u001b[1;32m---> 10\u001b[0m \u001b[43mv\u001b[49m\u001b[43m(\u001b[49m\u001b[43m)\u001b[49m\n",
      "Cell \u001b[1;32mIn[5], line 4\u001b[0m, in \u001b[0;36mv\u001b[1;34m()\u001b[0m\n\u001b[0;32m      3\u001b[0m \u001b[38;5;28;01mdef\u001b[39;00m \u001b[38;5;21mv\u001b[39m():\n\u001b[1;32m----> 4\u001b[0m     a\u001b[38;5;241m=\u001b[39m\u001b[38;5;28;43mint\u001b[39;49m\u001b[43m(\u001b[49m\u001b[38;5;28;43minput\u001b[39;49m\u001b[43m(\u001b[49m\u001b[38;5;124;43m\"\u001b[39;49m\u001b[38;5;124;43menter a\u001b[39;49m\u001b[38;5;124;43m\"\u001b[39;49m\u001b[43m)\u001b[49m\u001b[43m)\u001b[49m\n\u001b[0;32m      5\u001b[0m     b\u001b[38;5;241m=\u001b[39m\u001b[38;5;28mint\u001b[39m(\u001b[38;5;28minput\u001b[39m(\u001b[38;5;124m\"\u001b[39m\u001b[38;5;124menter b\u001b[39m\u001b[38;5;124m\"\u001b[39m))\n\u001b[0;32m      6\u001b[0m     sub(a,b)\n",
      "\u001b[1;31mValueError\u001b[0m: invalid literal for int() with base 10: ''"
     ]
    }
   ],
   "source": [
    "#local vriable/ user define\n",
    "\n",
    "def v():\n",
    "    a=int(input(\"enter value of a\"))\n",
    "    b=int(input(\"enter value of b\"))\n",
    "    sub(a,b)\n",
    "def sub(a,b):\n",
    "    ans1=b-a\n",
    "    print(\"answer\",ans1)\n",
    "v()"
   ]
  },
  {
   "cell_type": "code",
   "execution_count": 6,
   "metadata": {},
   "outputs": [
    {
     "name": "stdout",
     "output_type": "stream",
     "text": [
      "120\n"
     ]
    }
   ],
   "source": [
    "#global variable\n",
    "n=int(input(\"enter value\"))\n",
    "def factorial(n):\n",
    "    ans=1\n",
    "    for i in range(1,n+1):\n",
    "        ans*=i\n",
    "    print(ans)\n",
    "factorial(n)\n"
   ]
  },
  {
   "cell_type": "code",
   "execution_count": 16,
   "metadata": {},
   "outputs": [
    {
     "name": "stdout",
     "output_type": "stream",
     "text": [
      "6\n",
      "\n",
      "1 4 7\n"
     ]
    }
   ],
   "source": [
    "#default argument\n",
    "def add(a,b,c):\n",
    "    ans=a+b+c\n",
    "    print(ans)\n",
    "add(1,2,3)\n",
    "print()\n",
    "#key argument\n",
    "\n",
    "def details(a,b,c):\n",
    "    print(a,b,c)\n",
    "details(b=4,a=1,c=7)\n"
   ]
  },
  {
   "cell_type": "code",
   "execution_count": 33,
   "metadata": {},
   "outputs": [
    {
     "name": "stdout",
     "output_type": "stream",
     "text": [
      "anuj\n",
      "keswani\n",
      "python\n",
      "30\n"
     ]
    }
   ],
   "source": [
    "#Arbitary arguments     storing more then one argument in a single key\n",
    "def printdetails(name,lastname,*otherargs):\n",
    "    print(name)\n",
    "    print(lastname)\n",
    "    for i in otherargs:\n",
    "        print(i)\n",
    "  #  print(otherargs)\n",
    "printdetails(\"anuj\",\"keswani\",\"python\",30)"
   ]
  },
  {
   "cell_type": "code",
   "execution_count": 28,
   "metadata": {},
   "outputs": [
    {
     "name": "stdout",
     "output_type": "stream",
     "text": [
      "anuj\n",
      "60\n",
      "python\n",
      "4\n"
     ]
    }
   ],
   "source": [
    "# Arbitart keyword arguments\n",
    "c={'name':'anuj','marks':60,'sub':'python','rollno':4}\n",
    "def printdet(name,marks,sub,rollno):\n",
    "    print(name)\n",
    "    print(marks)\n",
    "    print(sub)\n",
    "    print(rollno)\n",
    "printdet(**c)"
   ]
  },
  {
   "cell_type": "code",
   "execution_count": 35,
   "metadata": {},
   "outputs": [
    {
     "name": "stdout",
     "output_type": "stream",
     "text": [
      "321\n"
     ]
    }
   ],
   "source": [
    "n=int(input('enter num'))\n",
    "def revnum(n):\n",
    "    rev=0\n",
    "    while(n>0):\n",
    "        rem=n%10\n",
    "        rev=rev*10+rem \n",
    "        n=int(n/10)\n",
    "    print(rev)\n",
    "revnum(n)\n"
   ]
  },
  {
   "cell_type": "code",
   "execution_count": 36,
   "metadata": {},
   "outputs": [
    {
     "name": "stdout",
     "output_type": "stream",
     "text": [
      "32\n"
     ]
    }
   ],
   "source": [
    "# lambda function\n",
    "a=lambda x : x**5\n",
    "print(a(2))"
   ]
  },
  {
   "cell_type": "code",
   "execution_count": 39,
   "metadata": {},
   "outputs": [
    {
     "name": "stdout",
     "output_type": "stream",
     "text": [
      "9\n",
      "25\n"
     ]
    }
   ],
   "source": [
    "def func1(m):\n",
    "    return lambda x:x*m\n",
    "trippler=func1(3)\n",
    "print(trippler(3))\n",
    "\n",
    "five=func1(5)\n",
    "print(five(5))"
   ]
  },
  {
   "cell_type": "code",
   "execution_count": 42,
   "metadata": {},
   "outputs": [
    {
     "name": "stdout",
     "output_type": "stream",
     "text": [
      "720\n"
     ]
    }
   ],
   "source": [
    "#recursion\n",
    "def factorial(n):\n",
    "    if(n==1):\n",
    "        return 1\n",
    "    else:\n",
    "        return n*factorial(n-1)\n",
    "l=factorial(6)\n",
    "print(l)"
   ]
  },
  {
   "cell_type": "code",
   "execution_count": 68,
   "metadata": {},
   "outputs": [
    {
     "name": "stdout",
     "output_type": "stream",
     "text": [
      "2024-06-25 14:33:54.639122\n",
      "2024\n",
      "6\n",
      "Tuesday\n",
      "2\n",
      "Jun\n",
      "June\n",
      "06\n"
     ]
    }
   ],
   "source": [
    "# date function\n",
    "import datetime\n",
    "x=datetime.datetime.now()\n",
    "print(x)\n",
    "print(x.year)\n",
    "print(x.month)\n",
    "print(x.strftime(\"%A\"))\n",
    "print(x.strftime(\"%w\"))\n",
    "print(x.strftime(\"%b\"))\n",
    "print(x.strftime(\"%B\"))\n",
    "print(x.strftime(\"%m\"))\n"
   ]
  },
  {
   "cell_type": "code",
   "execution_count": 71,
   "metadata": {},
   "outputs": [
    {
     "name": "stdout",
     "output_type": "stream",
     "text": [
      "3.0\n",
      "3.14\n",
      "32\n",
      "23\n"
     ]
    }
   ],
   "source": [
    "#math function\n",
    "import math\n",
    "print(math.sqrt(9))\n",
    "a=math.pi\n",
    "print(round(a,2))\n",
    "\n",
    "print(math.floor(32.9))\n",
    "print(math.ceil(22.1))\n"
   ]
  },
  {
   "cell_type": "code",
   "execution_count": 79,
   "metadata": {},
   "outputs": [
    {
     "name": "stdout",
     "output_type": "stream",
     "text": [
      "this chips lays costs 35.554 rupees\n",
      "this chips lays costs 35.6 rupees\n",
      "this chips lays costs 35.554 rupees\n"
     ]
    }
   ],
   "source": [
    "#string format\n",
    "price=35.554\n",
    "item='lays'\n",
    "s='this chips {} costs {} rupees'\n",
    "print(s.format(item,price))\n",
    "b=\"this chips {1} costs {0:.1f} rupees\"\n",
    "print(b.format(price,item))\n",
    "c='this chips {item} costs {co} rupees'\n",
    "print(c.format(item=item,co=price))"
   ]
  },
  {
   "cell_type": "code",
   "execution_count": null,
   "metadata": {},
   "outputs": [],
   "source": [
    "# fibonaci series\n",
    "n=int(input(\"enter a number\"))\n",
    "a=0\n",
    "b=1\n",
    "print(a,b,end=\" \")\n",
    "for i in range(n):\n",
    "    c=a+b\n",
    "    print(c,end=\" \")\n",
    "    a=b\n",
    "    b=c\n",
    "\n",
    "\n",
    "    #recursion\n",
    "def factorial(n):\n",
    "    if(n==1):\n",
    "        return 1\n",
    "    else:\n",
    "        return n*factorial(n-1)\n",
    "l=factorial(6)\n",
    "print(l)\n"
   ]
  },
  {
   "cell_type": "code",
   "execution_count": 118,
   "metadata": {},
   "outputs": [
    {
     "name": "stdout",
     "output_type": "stream",
     "text": [
      "hello worlds/n\n",
      "/n my name is anuj\n",
      "['/n my name is anujhey']\n"
     ]
    }
   ],
   "source": [
    "m=open(\"abc.txt\",\"w\")\n",
    "s=\"hello worlds/n\"\n",
    "m.write(s)\n",
    "m.close()\n",
    "m=open(\"abc.txt\",\"r\")\n",
    "data=m.readline()\n",
    "print(data)\n",
    "m.close()\n",
    "m=open(\"abc.txt\",\"w\")  # to write\n",
    "m.write(\"/n my name is anuj\")\n",
    "m.close()\n",
    "m=open(\"abc.txt\",\"r\")\n",
    "d1=m.readline()  # to read \n",
    "print(d1)\n",
    "m.close()\n",
    "m=open(\"abc.txt\",\"a\")   # to append\n",
    "m.write(\"hey\")\n",
    "m.close()\n",
    "m=open(\"abc.txt\",\"r\")\n",
    "d1=m.readlines()\n",
    "print(d1)\n",
    "\n"
   ]
  },
  {
   "cell_type": "code",
   "execution_count": 127,
   "metadata": {},
   "outputs": [],
   "source": [
    "m=open(\"info.txt\",\"w\")\n",
    "s=input(\"Name : \")\n",
    "s1=input(\"\\n contact : \")\n",
    "m.write(\"name: \"+s)\n",
    "m.write(\"\\n contact: \"+s1)\n",
    "m.close()"
   ]
  },
  {
   "cell_type": "code",
   "execution_count": 129,
   "metadata": {},
   "outputs": [
    {
     "name": "stdout",
     "output_type": "stream",
     "text": [
      "done\n"
     ]
    }
   ],
   "source": [
    "# file handeling\n",
    "n=input(\"enter your name: \")\n",
    "m=input(\"enter your contact no.:\")\n",
    "try:\n",
    "    f=open(\"fillhnd\",\"w\")\n",
    "    f.write(\"your name is:\"+n+\"\\n\"+\"your contact is :\"+m)\n",
    "    f.close()\n",
    "except:\n",
    "    print(\"error occured\")\n",
    "else:\n",
    "    print(\"done\")"
   ]
  },
  {
   "cell_type": "code",
   "execution_count": 153,
   "metadata": {},
   "outputs": [
    {
     "name": "stdout",
     "output_type": "stream",
     "text": [
      "Thu Jul  4 16:48:25 2024\n"
     ]
    }
   ],
   "source": [
    "# Advance Python\n",
    "#time library\n",
    "import time\n",
    "import calendar\n",
    "print(time.asctime(time.localtime(time.time())))\n"
   ]
  },
  {
   "cell_type": "code",
   "execution_count": 155,
   "metadata": {},
   "outputs": [
    {
     "name": "stdout",
     "output_type": "stream",
     "text": [
      "    January 2024\n",
      "Mo Tu We Th Fr Sa Su\n",
      " 1  2  3  4  5  6  7\n",
      " 8  9 10 11 12 13 14\n",
      "15 16 17 18 19 20 21\n",
      "22 23 24 25 26 27 28\n",
      "29 30 31\n",
      "\n",
      "   February 2024\n",
      "Mo Tu We Th Fr Sa Su\n",
      "          1  2  3  4\n",
      " 5  6  7  8  9 10 11\n",
      "12 13 14 15 16 17 18\n",
      "19 20 21 22 23 24 25\n",
      "26 27 28 29\n",
      "\n",
      "     March 2024\n",
      "Mo Tu We Th Fr Sa Su\n",
      "             1  2  3\n",
      " 4  5  6  7  8  9 10\n",
      "11 12 13 14 15 16 17\n",
      "18 19 20 21 22 23 24\n",
      "25 26 27 28 29 30 31\n",
      "\n",
      "     April 2024\n",
      "Mo Tu We Th Fr Sa Su\n",
      " 1  2  3  4  5  6  7\n",
      " 8  9 10 11 12 13 14\n",
      "15 16 17 18 19 20 21\n",
      "22 23 24 25 26 27 28\n",
      "29 30\n",
      "\n",
      "      May 2024\n",
      "Mo Tu We Th Fr Sa Su\n",
      "       1  2  3  4  5\n",
      " 6  7  8  9 10 11 12\n",
      "13 14 15 16 17 18 19\n",
      "20 21 22 23 24 25 26\n",
      "27 28 29 30 31\n",
      "\n",
      "     June 2024\n",
      "Mo Tu We Th Fr Sa Su\n",
      "                1  2\n",
      " 3  4  5  6  7  8  9\n",
      "10 11 12 13 14 15 16\n",
      "17 18 19 20 21 22 23\n",
      "24 25 26 27 28 29 30\n",
      "\n",
      "     July 2024\n",
      "Mo Tu We Th Fr Sa Su\n",
      " 1  2  3  4  5  6  7\n",
      " 8  9 10 11 12 13 14\n",
      "15 16 17 18 19 20 21\n",
      "22 23 24 25 26 27 28\n",
      "29 30 31\n",
      "\n",
      "    August 2024\n",
      "Mo Tu We Th Fr Sa Su\n",
      "          1  2  3  4\n",
      " 5  6  7  8  9 10 11\n",
      "12 13 14 15 16 17 18\n",
      "19 20 21 22 23 24 25\n",
      "26 27 28 29 30 31\n",
      "\n",
      "   September 2024\n",
      "Mo Tu We Th Fr Sa Su\n",
      "                   1\n",
      " 2  3  4  5  6  7  8\n",
      " 9 10 11 12 13 14 15\n",
      "16 17 18 19 20 21 22\n",
      "23 24 25 26 27 28 29\n",
      "30\n",
      "\n",
      "    October 2024\n",
      "Mo Tu We Th Fr Sa Su\n",
      "    1  2  3  4  5  6\n",
      " 7  8  9 10 11 12 13\n",
      "14 15 16 17 18 19 20\n",
      "21 22 23 24 25 26 27\n",
      "28 29 30 31\n",
      "\n",
      "   November 2024\n",
      "Mo Tu We Th Fr Sa Su\n",
      "             1  2  3\n",
      " 4  5  6  7  8  9 10\n",
      "11 12 13 14 15 16 17\n",
      "18 19 20 21 22 23 24\n",
      "25 26 27 28 29 30\n",
      "\n",
      "   December 2024\n",
      "Mo Tu We Th Fr Sa Su\n",
      "                   1\n",
      " 2  3  4  5  6  7  8\n",
      " 9 10 11 12 13 14 15\n",
      "16 17 18 19 20 21 22\n",
      "23 24 25 26 27 28 29\n",
      "30 31\n",
      "\n"
     ]
    }
   ],
   "source": [
    "import calendar\n",
    "for i in range(1,13):\n",
    "     print(calendar.month(2024,i))"
   ]
  },
  {
   "cell_type": "code",
   "execution_count": 157,
   "metadata": {},
   "outputs": [
    {
     "name": "stdout",
     "output_type": "stream",
     "text": [
      "hello animal kingdom\n"
     ]
    }
   ],
   "source": [
    "class Animal:\n",
    "    def greet(self):\n",
    "        print(\"hello animal kingdom\")\n",
    "s=Animal()\n",
    "s.greet()\n"
   ]
  },
  {
   "cell_type": "code",
   "execution_count": 160,
   "metadata": {},
   "outputs": [
    {
     "name": "stdout",
     "output_type": "stream",
     "text": [
      "its hyundai\n"
     ]
    }
   ],
   "source": [
    "class car:\n",
    "    name=\"maruti\"\n",
    "    def model(self):\n",
    "        print(\"its\",self.name)\n",
    "c=car()\n",
    "c.name=\"hyundai\"    #overwrites the upper value\n",
    "c.model()\n",
    "\n",
    "\n"
   ]
  },
  {
   "cell_type": "code",
   "execution_count": 163,
   "metadata": {},
   "outputs": [
    {
     "name": "stdout",
     "output_type": "stream",
     "text": [
      "My name is :  ANuj \n",
      " age is :  20 \n",
      " im studyind :  Python\n"
     ]
    }
   ],
   "source": [
    "class student:\n",
    "    def info(self):\n",
    "        print(\"My name is : \",self.name,\"\\nage is : \",self.age,\"\\nim studyind : \",self.sub)\n",
    "    def data(self):\n",
    "        self.name=input(\"enter name\")\n",
    "        self.age=input(\"enter age\")\n",
    "        self.sub=input(\"enter sub\")\n",
    "s1=student()\n",
    "s1.data()\n",
    "s1.info()"
   ]
  },
  {
   "cell_type": "code",
   "execution_count": 7,
   "metadata": {},
   "outputs": [
    {
     "name": "stdout",
     "output_type": "stream",
     "text": [
      "Name is Anuj\n"
     ]
    }
   ],
   "source": [
    "# constructor\n",
    "class Employee:\n",
    "    def __init__(self):\n",
    "        self.name=\"Anuj\"\n",
    "        self.id=37\n",
    "    def __str__(self):\n",
    "        s=\"Name is {}\"\n",
    "        f=s.format(self.name)\n",
    "        return f\n",
    "e1=Employee()\n",
    "print(e1)"
   ]
  },
  {
   "cell_type": "code",
   "execution_count": 21,
   "metadata": {},
   "outputs": [
    {
     "name": "stdout",
     "output_type": "stream",
     "text": [
      "My name is Anuj And im 20 yrs old\n",
      "Studying Python got 30\n"
     ]
    }
   ],
   "source": [
    "#inheritance\n",
    "class person:\n",
    "    def __init__(self,name,age):\n",
    "        self.name=name\n",
    "        self.age=age\n",
    "    def display(self):\n",
    "        print(\"My name is\",self.name,\"And im\",self.age,\"yrs old\")\n",
    "\n",
    "class student(person):\n",
    "    def __init__(self,name,age,sub,marks):\n",
    "        super().__init__(name,age)\n",
    "        self.sub=sub\n",
    "        self.marks=marks\n",
    "    def show(self):\n",
    "        super().display()\n",
    "        print(\"Studying\",self.sub,\"got\",self.marks)\n",
    "s1=student(\"Anuj\",20,\"Python\",30)\n",
    "s1.show()"
   ]
  },
  {
   "cell_type": "code",
   "execution_count": 31,
   "metadata": {},
   "outputs": [
    {
     "name": "stdout",
     "output_type": "stream",
     "text": [
      "Are small\n",
      "Dog can bark\n",
      "Animal can walk\n"
     ]
    }
   ],
   "source": [
    "#Multilevel inheritance\n",
    "class Animal():\n",
    "    def move(self):\n",
    "        print(\"Animal can walk\")\n",
    "class Dog(Animal):\n",
    "    def speak(self):\n",
    "        print(\"Dog can bark\")\n",
    "class Babydog(Dog):\n",
    "    def small(self):\n",
    "        print(\"Are small\")\n",
    "        self.speak()\n",
    "        self.move()\n",
    "b1=Babydog()\n",
    "b1.small()"
   ]
  },
  {
   "cell_type": "code",
   "execution_count": 38,
   "metadata": {},
   "outputs": [
    {
     "name": "stdout",
     "output_type": "stream",
     "text": [
      "BMW Have automatic gears\n",
      "Royal Enfield has 2 wheels\n",
      "Both runs on fuel\n"
     ]
    }
   ],
   "source": [
    "#multiple inheritance\n",
    "a=input(\"enter a brand for car\")\n",
    "b=input(\"enter a brand for bikes\")\n",
    "class car:\n",
    "    def automatic(self,brand):\n",
    "        self.brand=a\n",
    "        print(brand,\"Have automatic gears\")\n",
    "class bike:\n",
    "    def _2wheel(self,brand):\n",
    "        self.brand=b\n",
    "        print(brand,\"has 2 wheels\")\n",
    "class vehicle(car,bike):\n",
    "    def fuel(self):\n",
    "        self.automatic(a)\n",
    "        super()._2wheel(b)\n",
    "        print(\"Both runs on fuel\")\n",
    "v1=vehicle()\n",
    "v1.fuel()    \n",
    "\n",
    "\n",
    "\n"
   ]
  },
  {
   "cell_type": "code",
   "execution_count": 41,
   "metadata": {},
   "outputs": [
    {
     "name": "stdout",
     "output_type": "stream",
     "text": [
      "has 4 wheels\n",
      "runs on fuel\n"
     ]
    }
   ],
   "source": [
    "#method overriding\n",
    "class vehicle:\n",
    "    def wheels(self):\n",
    "        print(\"runs on fuel\")\n",
    "class car (vehicle):\n",
    "    def wheels(self):\n",
    "        print(\"has 4 wheels\")\n",
    "        super().wheels()\n",
    "c=car()\n",
    "c.wheels()"
   ]
  },
  {
   "cell_type": "code",
   "execution_count": 7,
   "metadata": {},
   "outputs": [
    {
     "name": "stdout",
     "output_type": "stream",
     "text": [
      "['e', 'e', 'e', 'e', 'e']\n",
      "<re.Match object; span=(0, 4), match='With'>\n",
      "['', ' great power comes great responsibility']\n",
      "With old power comes old responsibility\n"
     ]
    }
   ],
   "source": [
    "# String Matching regular expression\n",
    "import re\n",
    "s=\"With great power comes great responsibility\"\n",
    "m=re.findall(\"e\",s) # gives the no. of alphbet in a given string\n",
    "print(m)\n",
    "\n",
    "m=re.search(\"With\",s) #gives the starting and ending of the letter\n",
    "print(m)\n",
    "\n",
    "m=re.split(\"With\",s)\n",
    "print(m)\n",
    "# m=re.split(\"\\s\",s)\n",
    "# print(m)\n",
    "m=re.sub(\"great\",\"old\",s)\n",
    "print(m)"
   ]
  },
  {
   "cell_type": "code",
   "execution_count": 32,
   "metadata": {},
   "outputs": [
    {
     "name": "stdout",
     "output_type": "stream",
     "text": [
      "['c', 'e', 'C', 'G', 'A', 'G', 'd', 'd']\n",
      "['will']\n",
      "[]\n",
      "['score']\n",
      "['score']\n",
      "['9.6 ', ' 10']\n",
      "['Goodd']\n"
     ]
    }
   ],
   "source": [
    "import re\n",
    "s=\"I will score 9.6 or 10 CGPA Goodd\"\n",
    "m=re.findall(\"[a-hA-H]\",s)\n",
    "print(m)\n",
    "\n",
    "m=re.findall(\"w..l\",s)\n",
    "print(m)\n",
    "# m=re.findall(\"\\d\",s)\n",
    "# print(m)\n",
    "m=re.findall(\"yaaa$\",s) # checks the last value\n",
    "print(m)\n",
    "m=re.findall(\"s.*e\",s)\n",
    "print(m)\n",
    "m=re.findall(\"s.+e\",s)\n",
    "print(m)\n",
    "m=re.findall(\"9.6 | 10\",s)\n",
    "print(m)\n",
    "m=re.findall(\"Go.{2}d\",s)\n",
    "print(m)\n",
    "\n",
    "\n",
    "\n",
    "\n",
    "\n",
    "\n"
   ]
  },
  {
   "cell_type": "code",
   "execution_count": null,
   "metadata": {},
   "outputs": [],
   "source": [
    "import glob\n",
    "# to find a specific file\n",
    "for i in glob.glob(\"c:/student folder and files/data123\"):\n",
    "    print(i)\n",
    "\n",
    "#find only doc file\n",
    "for i in glob.glob(\"c:/student folder and files/*.docx\"):\n",
    "    print(i)\n",
    "for i in glob.glob(\"c:/student folder and files/data.*\"):\n",
    "    print(i)\n",
    "\n",
    "for i in glob.glob(\"c:/student folder and files/*a.*\"):\n",
    "    print(i)\n",
    "for i in glob.glob(\"c:/student folder and files/*a*.docx\"):\n",
    "    print(i)\n",
    "for i in glob.glob(\"c:/student folder and files/*[0-9]*.docx\"):\n",
    "    print(i)    \n",
    "for i in glob.glob(\"c:/student folder and files/???.*\"):\n",
    "    print(i)"
   ]
  }
 ],
 "metadata": {
  "kernelspec": {
   "display_name": "Python 3",
   "language": "python",
   "name": "python3"
  },
  "language_info": {
   "codemirror_mode": {
    "name": "ipython",
    "version": 3
   },
   "file_extension": ".py",
   "mimetype": "text/x-python",
   "name": "python",
   "nbconvert_exporter": "python",
   "pygments_lexer": "ipython3",
   "version": "3.12.4"
  }
 },
 "nbformat": 4,
 "nbformat_minor": 2
}
