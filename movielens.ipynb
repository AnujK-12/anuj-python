{
 "cells": [
  {
   "cell_type": "code",
   "execution_count": 10,
   "metadata": {},
   "outputs": [
    {
     "data": {
      "text/plain": [
       "title\n",
       "Forrest Gump (1994)                        329\n",
       "Shawshank Redemption, The (1994)           317\n",
       "Pulp Fiction (1994)                        307\n",
       "Silence of the Lambs, The (1991)           279\n",
       "Matrix, The (1999)                         278\n",
       "                                          ... \n",
       "My Lucky Stars (Fuk sing go jiu) (1985)      1\n",
       "Wrong (2012)                                 1\n",
       "Texas Chainsaw 3D (2013)                     1\n",
       "Sightseers (2012)                            1\n",
       "ABCs of Death, The (2012)                    1\n",
       "Name: count, Length: 9719, dtype: int64"
      ]
     },
     "execution_count": 10,
     "metadata": {},
     "output_type": "execute_result"
    }
   ],
   "source": [
    "import pandas as pd\n",
    "import numpy as np\n",
    "import matplotlib.pyplot as plt \n",
    "movies=pd.read_csv('movies.csv')\n",
    "ratings=pd.read_csv(\"ratings.csv\")\n",
    "user_cols=['userId','age','gender','occupation','zipcode']\n",
    "user=pd.read_csv(\"u.user\",sep='|',names=user_cols)\n",
    "\n",
    "x=pd.merge(ratings,movies)\n",
    "lens=pd.merge(x,user)\n",
    "\n",
    "lens['title'].value_counts()"
   ]
  },
  {
   "cell_type": "code",
   "execution_count": null,
   "metadata": {},
   "outputs": [],
   "source": [
    "'''top movie by ratingsextract \n",
    "movies of comedy genre\n",
    "age wise movie trends'''\n"
   ]
  }
 ],
 "metadata": {
  "kernelspec": {
   "display_name": "Python 3",
   "language": "python",
   "name": "python3"
  },
  "language_info": {
   "codemirror_mode": {
    "name": "ipython",
    "version": 3
   },
   "file_extension": ".py",
   "mimetype": "text/x-python",
   "name": "python",
   "nbconvert_exporter": "python",
   "pygments_lexer": "ipython3",
   "version": "3.12.4"
  }
 },
 "nbformat": 4,
 "nbformat_minor": 2
}
